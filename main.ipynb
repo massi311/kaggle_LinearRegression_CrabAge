{
  "nbformat": 4,
  "nbformat_minor": 0,
  "metadata": {
    "colab": {
      "provenance": []
    },
    "kernelspec": {
      "name": "python3",
      "display_name": "Python 3"
    },
    "language_info": {
      "name": "python"
    }
  },
  "cells": [
    {
      "cell_type": "code",
      "source": [
        "!git commit"
      ],
      "metadata": {
        "id": "xoKWQLYhn14v",
        "outputId": "4fa272b4-1af5-46e9-ae65-73975e96700a",
        "colab": {
          "base_uri": "https://localhost:8080/"
        }
      },
      "execution_count": 16,
      "outputs": [
        {
          "output_type": "stream",
          "name": "stdout",
          "text": [
            "fatal: not a git repository (or any of the parent directories): .git\n"
          ]
        }
      ]
    },
    {
      "cell_type": "code",
      "source": [
        "import json\n",
        "with open('kaggle_LinearRegression_CrabAge/kaggle.json', 'r') as f:\n",
        "    data = json.load(f)\n",
        "\n",
        "print(data)"
      ],
      "metadata": {
        "colab": {
          "base_uri": "https://localhost:8080/"
        },
        "id": "pKFvUQjFkcVZ",
        "outputId": "63318949-eea8-44b7-c2a9-10c4567c758a"
      },
      "execution_count": 7,
      "outputs": [
        {
          "output_type": "stream",
          "name": "stdout",
          "text": [
            "{'username': 'masoudranjbaran', 'key': 'cdfffc1a5303518426b66ec7c7c461c5'}\n"
          ]
        }
      ]
    },
    {
      "cell_type": "code",
      "execution_count": 12,
      "metadata": {
        "id": "oiGTfhprkvUe"
      },
      "outputs": [],
      "source": [
        "!pip install -q kaggle && mkdir ~/.kaggle3 && echo '{\"username\":\"masoudranjbaran\",\"key\":\"783a0dc0403724037b474af33aca81c4\"}' > ~/.kaggle/kaggle.json && chmod 600 ~/.kaggle/kaggle.json && kaggle competitions download -c playground-series-s3e16"
      ]
    },
    {
      "cell_type": "code",
      "source": [
        "# Install the Kaggle API client\n",
        "!pip install -q kaggle\n",
        "\n",
        "# Download the dataset\n",
        "!kaggle competitions download -c playground-series-s3e16  # Replace with the actual command\n",
        "\n"
      ],
      "metadata": {
        "colab": {
          "base_uri": "https://localhost:8080/"
        },
        "id": "kmIlwPk6nQZr",
        "outputId": "06dfedf8-f2d3-4a3b-8f41-886da54458ab"
      },
      "execution_count": 14,
      "outputs": [
        {
          "output_type": "stream",
          "name": "stdout",
          "text": [
            "Downloading playground-series-s3e16.zip to /content\n",
            "\r  0% 0.00/2.65M [00:00<?, ?B/s]\n",
            "\r100% 2.65M/2.65M [00:00<00:00, 142MB/s]\n",
            "unzip:  cannot find or open dataset-name.zip, dataset-name.zip.zip or dataset-name.zip.ZIP.\n"
          ]
        }
      ]
    },
    {
      "cell_type": "code",
      "source": [
        "!unzip playground-series-s3e16.zip"
      ],
      "metadata": {
        "colab": {
          "base_uri": "https://localhost:8080/"
        },
        "id": "cT0q81EKn1v2",
        "outputId": "1cc95e9f-9de7-4c8b-9323-c64342aa08ba"
      },
      "execution_count": 15,
      "outputs": [
        {
          "output_type": "stream",
          "name": "stdout",
          "text": [
            "Archive:  playground-series-s3e16.zip\n",
            "  inflating: sample_submission.csv   \n",
            "  inflating: test.csv                \n",
            "  inflating: train.csv               \n"
          ]
        }
      ]
    },
    {
      "cell_type": "code",
      "source": [
        "import pandas as pd\n",
        "import matplotlib.pyplot as plt\n",
        "import seaborn as sns\n",
        "\n",
        "# Read the data\n",
        "data = pd.read_csv('train.csv')\n",
        "\n",
        "# Look at the first few rows of the DataFrame\n",
        "print(data.head())\n",
        "\n",
        "# Get summary statistics\n",
        "print(data.describe())\n",
        "\n",
        "# Visualize distributions of some features\n",
        "sns.histplot(data['Sex'])\n",
        "plt.show()"
      ],
      "metadata": {
        "colab": {
          "base_uri": "https://localhost:8080/",
          "height": 1000
        },
        "id": "4W5DUhGVoC0p",
        "outputId": "676ce654-a89b-4e77-d6c8-31389b7632ea"
      },
      "execution_count": null,
      "outputs": [
        {
          "output_type": "stream",
          "name": "stdout",
          "text": [
            "   id Sex  Length  Diameter  Height     Weight  Shucked Weight  \\\n",
            "0   0   I  1.5250    1.1750  0.3750  28.973189       12.728926   \n",
            "1   1   I  1.1000    0.8250  0.2750  10.418441        4.521745   \n",
            "2   2   M  1.3875    1.1125  0.3750  24.777463       11.339800   \n",
            "3   3   F  1.7000    1.4125  0.5000  50.660556       20.354941   \n",
            "4   4   I  1.2500    1.0125  0.3375  23.289114       11.977664   \n",
            "\n",
            "   Viscera Weight  Shell Weight  Age  \n",
            "0        6.647958      8.348928    9  \n",
            "1        2.324659      3.401940    8  \n",
            "2        5.556502      6.662133    9  \n",
            "3       10.991839     14.996885   11  \n",
            "4        4.507570      5.953395    8  \n",
            "                 id        Length      Diameter        Height        Weight  \\\n",
            "count  74051.000000  74051.000000  74051.000000  74051.000000  74051.000000   \n",
            "mean   37025.000000      1.317460      1.024496      0.348089     23.385217   \n",
            "std    21376.826729      0.287757      0.237396      0.092034     12.648153   \n",
            "min        0.000000      0.187500      0.137500      0.000000      0.056699   \n",
            "25%    18512.500000      1.150000      0.887500      0.300000     13.437663   \n",
            "50%    37025.000000      1.375000      1.075000      0.362500     23.799405   \n",
            "75%    55537.500000      1.537500      1.200000      0.412500     32.162508   \n",
            "max    74050.000000      2.012815      1.612500      2.825000     80.101512   \n",
            "\n",
            "       Shucked Weight  Viscera Weight  Shell Weight           Age  \n",
            "count    74051.000000    74051.000000  74051.000000  74051.000000  \n",
            "mean        10.104270        5.058386      6.723870      9.967806  \n",
            "std          5.618025        2.792729      3.584372      3.175189  \n",
            "min          0.028349        0.042524      0.042524      1.000000  \n",
            "25%          5.712424        2.863300      3.968930      8.000000  \n",
            "50%          9.908150        4.989512      6.931453     10.000000  \n",
            "75%         14.033003        6.988152      9.071840     11.000000  \n",
            "max         42.184056       21.545620     28.491248     29.000000  \n"
          ]
        },
        {
          "output_type": "display_data",
          "data": {
            "text/plain": [
              "<Figure size 640x480 with 1 Axes>"
            ],
            "image/png": "[encoded data removed]"
          },
          "metadata": {}
        }
      ]
    }
  ]
}